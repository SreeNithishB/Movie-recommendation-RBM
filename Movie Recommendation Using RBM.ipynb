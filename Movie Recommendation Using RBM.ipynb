{
 "cells": [
  {
   "cell_type": "markdown",
   "id": "comfortable-crystal",
   "metadata": {},
   "source": [
    "# MOVIE RECOMMENDATION USING RESTRICTED BOLTZMANN MACHINE"
   ]
  },
  {
   "cell_type": "markdown",
   "id": "gorgeous-safety",
   "metadata": {},
   "source": [
    "# Importing the libraries"
   ]
  },
  {
   "cell_type": "code",
   "execution_count": 1,
   "id": "western-gallery",
   "metadata": {},
   "outputs": [],
   "source": [
    "import numpy as np\n",
    "import pandas as pd\n",
    "import torch\n",
    "import torch.nn as nn\n",
    "import torch.nn.parallel\n",
    "import torch.optim as optim\n",
    "import torch.utils.data\n",
    "from torch.autograd import variable"
   ]
  },
  {
   "cell_type": "markdown",
   "id": "cellular-lawrence",
   "metadata": {},
   "source": [
    "# Constants"
   ]
  },
  {
   "cell_type": "code",
   "execution_count": 2,
   "id": "behind-ceremony",
   "metadata": {},
   "outputs": [],
   "source": [
    "MOVIES_DAT_1M = 'Movielense_Dataset/ml-1m/movies.dat'\n",
    "USERS_DAT_1M = 'Movielense_Dataset/ml-1m/users.dat'\n",
    "RATINGS_DAT_1M = 'Movielense_Dataset/ml-1m/ratings.dat'\n",
    "TRAINING_SET_100K_U1 = 'Movielense_Dataset/ml-100k/u1.base'\n",
    "TEST_SET_100K_U1 = 'Movielense_Dataset/ml-100k/u1.test'"
   ]
  },
  {
   "cell_type": "markdown",
   "id": "collect-lotus",
   "metadata": {},
   "source": [
    "# Importing the Dataset"
   ]
  },
  {
   "cell_type": "code",
   "execution_count": 3,
   "id": "racial-architect",
   "metadata": {},
   "outputs": [
    {
     "data": {
      "text/html": [
       "<div>\n",
       "<style scoped>\n",
       "    .dataframe tbody tr th:only-of-type {\n",
       "        vertical-align: middle;\n",
       "    }\n",
       "\n",
       "    .dataframe tbody tr th {\n",
       "        vertical-align: top;\n",
       "    }\n",
       "\n",
       "    .dataframe thead th {\n",
       "        text-align: right;\n",
       "    }\n",
       "</style>\n",
       "<table border=\"1\" class=\"dataframe\">\n",
       "  <thead>\n",
       "    <tr style=\"text-align: right;\">\n",
       "      <th></th>\n",
       "      <th>MOVIE_ID</th>\n",
       "      <th>MOVIE_NAME</th>\n",
       "      <th>GENERE</th>\n",
       "    </tr>\n",
       "  </thead>\n",
       "  <tbody>\n",
       "    <tr>\n",
       "      <th>0</th>\n",
       "      <td>1</td>\n",
       "      <td>Toy Story (1995)</td>\n",
       "      <td>Animation|Children's|Comedy</td>\n",
       "    </tr>\n",
       "    <tr>\n",
       "      <th>1</th>\n",
       "      <td>2</td>\n",
       "      <td>Jumanji (1995)</td>\n",
       "      <td>Adventure|Children's|Fantasy</td>\n",
       "    </tr>\n",
       "    <tr>\n",
       "      <th>2</th>\n",
       "      <td>3</td>\n",
       "      <td>Grumpier Old Men (1995)</td>\n",
       "      <td>Comedy|Romance</td>\n",
       "    </tr>\n",
       "    <tr>\n",
       "      <th>3</th>\n",
       "      <td>4</td>\n",
       "      <td>Waiting to Exhale (1995)</td>\n",
       "      <td>Comedy|Drama</td>\n",
       "    </tr>\n",
       "    <tr>\n",
       "      <th>4</th>\n",
       "      <td>5</td>\n",
       "      <td>Father of the Bride Part II (1995)</td>\n",
       "      <td>Comedy</td>\n",
       "    </tr>\n",
       "  </tbody>\n",
       "</table>\n",
       "</div>"
      ],
      "text/plain": [
       "   MOVIE_ID                          MOVIE_NAME                        GENERE\n",
       "0         1                    Toy Story (1995)   Animation|Children's|Comedy\n",
       "1         2                      Jumanji (1995)  Adventure|Children's|Fantasy\n",
       "2         3             Grumpier Old Men (1995)                Comedy|Romance\n",
       "3         4            Waiting to Exhale (1995)                  Comedy|Drama\n",
       "4         5  Father of the Bride Part II (1995)                        Comedy"
      ]
     },
     "execution_count": 3,
     "metadata": {},
     "output_type": "execute_result"
    }
   ],
   "source": [
    "colnames = ['MOVIE_ID', 'MOVIE_NAME', 'GENERE']\n",
    "movies = pd.read_csv(MOVIES_DAT_1M, sep = '::', header = None, engine = 'python', encoding = 'latin-1', names = colnames)\n",
    "movies.head()"
   ]
  },
  {
   "cell_type": "code",
   "execution_count": 4,
   "id": "infinite-impossible",
   "metadata": {},
   "outputs": [
    {
     "data": {
      "text/html": [
       "<div>\n",
       "<style scoped>\n",
       "    .dataframe tbody tr th:only-of-type {\n",
       "        vertical-align: middle;\n",
       "    }\n",
       "\n",
       "    .dataframe tbody tr th {\n",
       "        vertical-align: top;\n",
       "    }\n",
       "\n",
       "    .dataframe thead th {\n",
       "        text-align: right;\n",
       "    }\n",
       "</style>\n",
       "<table border=\"1\" class=\"dataframe\">\n",
       "  <thead>\n",
       "    <tr style=\"text-align: right;\">\n",
       "      <th></th>\n",
       "      <th>USER_ID</th>\n",
       "      <th>GENDER</th>\n",
       "      <th>AGE</th>\n",
       "      <th>USERS_JOB</th>\n",
       "      <th>ZIP_CODE</th>\n",
       "    </tr>\n",
       "  </thead>\n",
       "  <tbody>\n",
       "    <tr>\n",
       "      <th>0</th>\n",
       "      <td>1</td>\n",
       "      <td>F</td>\n",
       "      <td>1</td>\n",
       "      <td>10</td>\n",
       "      <td>48067</td>\n",
       "    </tr>\n",
       "    <tr>\n",
       "      <th>1</th>\n",
       "      <td>2</td>\n",
       "      <td>M</td>\n",
       "      <td>56</td>\n",
       "      <td>16</td>\n",
       "      <td>70072</td>\n",
       "    </tr>\n",
       "    <tr>\n",
       "      <th>2</th>\n",
       "      <td>3</td>\n",
       "      <td>M</td>\n",
       "      <td>25</td>\n",
       "      <td>15</td>\n",
       "      <td>55117</td>\n",
       "    </tr>\n",
       "    <tr>\n",
       "      <th>3</th>\n",
       "      <td>4</td>\n",
       "      <td>M</td>\n",
       "      <td>45</td>\n",
       "      <td>7</td>\n",
       "      <td>02460</td>\n",
       "    </tr>\n",
       "    <tr>\n",
       "      <th>4</th>\n",
       "      <td>5</td>\n",
       "      <td>M</td>\n",
       "      <td>25</td>\n",
       "      <td>20</td>\n",
       "      <td>55455</td>\n",
       "    </tr>\n",
       "  </tbody>\n",
       "</table>\n",
       "</div>"
      ],
      "text/plain": [
       "   USER_ID GENDER  AGE  USERS_JOB ZIP_CODE\n",
       "0        1      F    1         10    48067\n",
       "1        2      M   56         16    70072\n",
       "2        3      M   25         15    55117\n",
       "3        4      M   45          7    02460\n",
       "4        5      M   25         20    55455"
      ]
     },
     "execution_count": 4,
     "metadata": {},
     "output_type": "execute_result"
    }
   ],
   "source": [
    "colnames = ['USER_ID', 'GENDER', 'AGE', 'USERS_JOB', 'ZIP_CODE']\n",
    "users = pd.read_csv(USERS_DAT_1M, sep = '::', header = None, engine = 'python', encoding = 'latin-1', names = colnames)\n",
    "users.head()"
   ]
  },
  {
   "cell_type": "code",
   "execution_count": 5,
   "id": "brief-missouri",
   "metadata": {},
   "outputs": [
    {
     "data": {
      "text/html": [
       "<div>\n",
       "<style scoped>\n",
       "    .dataframe tbody tr th:only-of-type {\n",
       "        vertical-align: middle;\n",
       "    }\n",
       "\n",
       "    .dataframe tbody tr th {\n",
       "        vertical-align: top;\n",
       "    }\n",
       "\n",
       "    .dataframe thead th {\n",
       "        text-align: right;\n",
       "    }\n",
       "</style>\n",
       "<table border=\"1\" class=\"dataframe\">\n",
       "  <thead>\n",
       "    <tr style=\"text-align: right;\">\n",
       "      <th></th>\n",
       "      <th>USER_ID</th>\n",
       "      <th>MOVIE_ID</th>\n",
       "      <th>RATINGS</th>\n",
       "      <th>TIMESTAMP</th>\n",
       "    </tr>\n",
       "  </thead>\n",
       "  <tbody>\n",
       "    <tr>\n",
       "      <th>0</th>\n",
       "      <td>1</td>\n",
       "      <td>1193</td>\n",
       "      <td>5</td>\n",
       "      <td>978300760</td>\n",
       "    </tr>\n",
       "    <tr>\n",
       "      <th>1</th>\n",
       "      <td>1</td>\n",
       "      <td>661</td>\n",
       "      <td>3</td>\n",
       "      <td>978302109</td>\n",
       "    </tr>\n",
       "    <tr>\n",
       "      <th>2</th>\n",
       "      <td>1</td>\n",
       "      <td>914</td>\n",
       "      <td>3</td>\n",
       "      <td>978301968</td>\n",
       "    </tr>\n",
       "    <tr>\n",
       "      <th>3</th>\n",
       "      <td>1</td>\n",
       "      <td>3408</td>\n",
       "      <td>4</td>\n",
       "      <td>978300275</td>\n",
       "    </tr>\n",
       "    <tr>\n",
       "      <th>4</th>\n",
       "      <td>1</td>\n",
       "      <td>2355</td>\n",
       "      <td>5</td>\n",
       "      <td>978824291</td>\n",
       "    </tr>\n",
       "  </tbody>\n",
       "</table>\n",
       "</div>"
      ],
      "text/plain": [
       "   USER_ID  MOVIE_ID  RATINGS  TIMESTAMP\n",
       "0        1      1193        5  978300760\n",
       "1        1       661        3  978302109\n",
       "2        1       914        3  978301968\n",
       "3        1      3408        4  978300275\n",
       "4        1      2355        5  978824291"
      ]
     },
     "execution_count": 5,
     "metadata": {},
     "output_type": "execute_result"
    }
   ],
   "source": [
    "colnames = ['USER_ID', 'MOVIE_ID', 'RATINGS', 'TIMESTAMP']\n",
    "ratings = pd.read_csv(RATINGS_DAT_1M, sep = '::', header = None, engine = 'python', encoding = 'latin-1', names = colnames)\n",
    "ratings.head()"
   ]
  },
  {
   "cell_type": "markdown",
   "id": "black-scottish",
   "metadata": {},
   "source": [
    "# Preparing the training set and the test set"
   ]
  },
  {
   "cell_type": "code",
   "execution_count": 6,
   "id": "american-terminal",
   "metadata": {},
   "outputs": [
    {
     "name": "stdout",
     "output_type": "stream",
     "text": [
      "Training Set Shape:  (80000, 4)\n"
     ]
    }
   ],
   "source": [
    "colnames = ['USER_ID', 'MOVIE_ID', 'RATINGS', 'TIMESTAMP']\n",
    "training_set = pd.read_csv(TRAINING_SET_100K_U1, delimiter = '\\t', header = None, names = colnames)\n",
    "training_set = np.array(training_set, dtype = 'int64') # converting it into numpy array\n",
    "print('Training Set Shape: ', training_set.shape)"
   ]
  },
  {
   "cell_type": "code",
   "execution_count": 7,
   "id": "spare-sister",
   "metadata": {},
   "outputs": [
    {
     "name": "stdout",
     "output_type": "stream",
     "text": [
      "Test Set Shape:  (20000, 4)\n"
     ]
    }
   ],
   "source": [
    "colnames = ['USER_ID', 'MOVIE_ID', 'RATINGS', 'TIMESTAMP']\n",
    "test_set = pd.read_csv(TEST_SET_100K_U1, delimiter = '\\t', header = None, names = colnames)\n",
    "test_set = np.array(test_set, dtype = 'int64') # converting it into numpy array\n",
    "print('Test Set Shape: ', test_set.shape)"
   ]
  },
  {
   "cell_type": "markdown",
   "id": "superior-sunday",
   "metadata": {},
   "source": [
    "# Getting Number of Users and Movies"
   ]
  },
  {
   "cell_type": "code",
   "execution_count": 8,
   "id": "occasional-terrorist",
   "metadata": {},
   "outputs": [
    {
     "name": "stdout",
     "output_type": "stream",
     "text": [
      "Number of Users:  943\n",
      "Number of Movies:  1682\n"
     ]
    }
   ],
   "source": [
    "nb_users = int(max(max(training_set[:, 0]), max(test_set[:, 0])))\n",
    "nb_movies = int(max(max(training_set[:, 1]), max(test_set[:, 1])))\n",
    "print('Number of Users: ', nb_users)\n",
    "print('Number of Movies: ', nb_movies)"
   ]
  },
  {
   "cell_type": "markdown",
   "id": "suspended-message",
   "metadata": {},
   "source": [
    "## Converting the data into an array with users in lines and movies in columns"
   ]
  },
  {
   "cell_type": "code",
   "execution_count": 9,
   "id": "efficient-timer",
   "metadata": {},
   "outputs": [],
   "source": [
    "\"\"\"converts the data into an array with users in lines and movies in columns\"\"\"\n",
    "def convert(data):\n",
    "    new_data = []\n",
    "    for id_users in range(1, nb_users + 1):\n",
    "        id_movies = data[:, 1][data[:, 0] == id_users]\n",
    "        id_ratings = data[:, 2][data[:, 0] == id_users]\n",
    "        ratings = np.zeros(nb_movies)\n",
    "        ratings[id_movies - 1] = id_ratings\n",
    "        new_data.append(list(ratings))\n",
    "    return new_data"
   ]
  },
  {
   "cell_type": "code",
   "execution_count": 10,
   "id": "federal-manual",
   "metadata": {},
   "outputs": [],
   "source": [
    "training_set = convert(training_set)\n",
    "test_set = convert(test_set)"
   ]
  },
  {
   "cell_type": "markdown",
   "id": "blond-treasure",
   "metadata": {},
   "source": [
    "# Converting the data into Torch tensors"
   ]
  },
  {
   "cell_type": "code",
   "execution_count": 11,
   "id": "close-cambodia",
   "metadata": {},
   "outputs": [],
   "source": [
    "training_set = torch.FloatTensor(training_set)\n",
    "test_set = torch.FloatTensor(test_set)"
   ]
  },
  {
   "cell_type": "markdown",
   "id": "minor-norfolk",
   "metadata": {},
   "source": [
    "# Converting the ratings into binary ratings 1 (Liked) 0 (Not Liked)"
   ]
  },
  {
   "cell_type": "code",
   "execution_count": 12,
   "id": "parliamentary-dairy",
   "metadata": {},
   "outputs": [],
   "source": [
    "training_set[training_set == 0] = -1 # -1 being, the user haven't rated the movie yet\n",
    "training_set[training_set == 1] = 0  # the user not liked the movie\n",
    "training_set[training_set == 2] = 0\n",
    "training_set[training_set >= 3] = 1 # the user liked the movie\n",
    "\n",
    "test_set[test_set == 0] = -1\n",
    "test_set[test_set == 1] = 0\n",
    "test_set[test_set == 2] = 0\n",
    "test_set[test_set >= 3] = 1"
   ]
  },
  {
   "cell_type": "markdown",
   "id": "residential-psychiatry",
   "metadata": {},
   "source": [
    "# Creating the Architecture of the Neural Network"
   ]
  },
  {
   "cell_type": "code",
   "execution_count": 13,
   "id": "coastal-douglas",
   "metadata": {},
   "outputs": [],
   "source": [
    "class RBM():\n",
    "    \"\"\"nv - number of visible nodes, nh - number of hidden nodes.\"\"\"\n",
    "    def __init__(self, nv, nh):\n",
    "        self.W = torch.randn(nv, nh) # weights\n",
    "        self.a = torch.randn(1, nh) # bias : P(h) given v\n",
    "        self.b = torch.randn(1, nv) # bias : P(v) given h\n",
    "        \n",
    "    def sample_h(self, x):\n",
    "        \n",
    "        \"\"\"x - the visible neurons, v in the probabilities p(h) given v.\"\"\"\n",
    "    \n",
    "        wx = torch.mm(x, self.W) # product of x, W (with a transpose to make multiplication consistent)\n",
    "        activation = wx + self.a.expand_as(wx)\n",
    "        p_h_given_v = torch.sigmoid(activation)\n",
    "        return p_h_given_v, torch.bernoulli(p_h_given_v)\n",
    "    \n",
    "    def sample_v(self, y):\n",
    "        \n",
    "        \"\"\"y - the hidden neurons, h in the probabilities p(v) given h.\"\"\"\n",
    "    \n",
    "        wy = torch.mm(y, self.W.t()) # product of y, W\n",
    "        activation = wy + self.b.expand_as(wy)\n",
    "        p_v_given_h = torch.sigmoid(activation)\n",
    "        return p_v_given_h, torch.bernoulli(p_v_given_h)\n",
    "    \n",
    "    def train(self, v0, vk, ph0, phk):\n",
    "        \n",
    "        \"\"\"The contrastive divergence to aproximate the likelihood gradient\\n\\n\n",
    "    v0 - input vector\n",
    "    vk - visible nodes obtained after k samplings (after k iterations and k contrastive divergence)\n",
    "    ph0 - vector of probabilities that at the first iteration the hidden nodes equls one given the values of v0\n",
    "    phk - probabilities of the hidden nodes after k samplings given the values of visible nodes vk.\"\"\"\n",
    "    \n",
    "        self.W += torch.mm(v0.t(), ph0) - torch.mm(vk.t(), phk)\n",
    "        self.b += torch.sum((v0 - vk), 0)\n",
    "        self.a += torch.sum((ph0 - phk), 0)"
   ]
  },
  {
   "cell_type": "code",
   "execution_count": 14,
   "id": "guided-chambers",
   "metadata": {},
   "outputs": [],
   "source": [
    "nv = len(training_set[0])\n",
    "nh = 100\n",
    "rbm = RBM(nv, nh)"
   ]
  },
  {
   "cell_type": "markdown",
   "id": "statistical-rugby",
   "metadata": {},
   "source": [
    "# Training the RBM"
   ]
  },
  {
   "cell_type": "code",
   "execution_count": 15,
   "id": "certified-rover",
   "metadata": {},
   "outputs": [
    {
     "name": "stdout",
     "output_type": "stream",
     "text": [
      "epoch: 1 loss: tensor(0.3548)\n",
      "epoch: 2 loss: tensor(0.2369)\n",
      "epoch: 3 loss: tensor(0.2525)\n",
      "epoch: 4 loss: tensor(0.2494)\n",
      "epoch: 5 loss: tensor(0.2459)\n",
      "epoch: 6 loss: tensor(0.2483)\n",
      "epoch: 7 loss: tensor(0.2490)\n",
      "epoch: 8 loss: tensor(0.2474)\n",
      "epoch: 9 loss: tensor(0.2500)\n",
      "epoch: 10 loss: tensor(0.2455)\n"
     ]
    }
   ],
   "source": [
    "nb_epoch = 10\n",
    "batch_size = 100\n",
    "k_steps = 10 # k-steps for contrastive divergence\n",
    "for epoch in range(1, nb_epoch + 1):\n",
    "    train_loss = 0\n",
    "    s = 0. # counter used in Normalization\n",
    "    for id_user in range(0, nb_users - batch_size, batch_size):\n",
    "        vk = training_set[id_user:id_user+batch_size]\n",
    "        v0 = training_set[id_user:id_user+batch_size]\n",
    "        ph0,_ = rbm.sample_h(v0)\n",
    "        for k in range(k_steps):\n",
    "            _,hk = rbm.sample_h(vk)\n",
    "            _,vk = rbm.sample_v(hk)\n",
    "            # we don't want to learn where there is no rating\n",
    "            # not include the cells that contains -1 ratings in the training process\n",
    "            vk[v0<0] = v0[v0<0]\n",
    "        phk,_ = rbm.sample_h(vk)\n",
    "        rbm.train(v0, vk, ph0, phk)\n",
    "        train_loss += torch.mean(torch.abs(v0[v0>=0] - vk[v0>=0])) # simple distance between the prediction and the real rating\n",
    "        s += 1.\n",
    "    print('epoch: '+str(epoch)+' loss: '+str(train_loss/s)) # printing normalized train_loss\n",
    "                                                            # use str((test_loss / s).tolist()) to print as proper floats"
   ]
  },
  {
   "cell_type": "markdown",
   "id": "sacred-median",
   "metadata": {},
   "source": [
    "# Testing the RNN"
   ]
  },
  {
   "cell_type": "code",
   "execution_count": 16,
   "id": "medieval-responsibility",
   "metadata": {},
   "outputs": [
    {
     "name": "stdout",
     "output_type": "stream",
     "text": [
      "test loss: tensor(0.1129)\n"
     ]
    }
   ],
   "source": [
    "k_steps = 10 # k-steps for contrastive divergence\n",
    "test_loss = 0\n",
    "s = 0. # counter used in Normalization\n",
    "for id_user in range(0, nb_users):\n",
    "    v = training_set[id_user:id_user+1]\n",
    "    vt = test_set[id_user:id_user+1]\n",
    "    # one step (iteration) of Gibb's sampling (or blind walk according to this test set) is enough as we've\n",
    "    # already trained wi k-steps\n",
    "    if len(vt[vt>=0]) > 0:\n",
    "        _,h = rbm.sample_h(v)\n",
    "        _,v = rbm.sample_v(h)\n",
    "        test_loss += torch.mean(torch.abs(vt[vt>=0] - v[vt>=0])) # simple distance between the prediction and the real rating\n",
    "    s += 1.\n",
    "print('test loss: '+str(test_loss/s)) # printing normalized test_loss\n",
    "                                      # use str((test_loss / s).tolist()) to print as proper floats"
   ]
  },
  {
   "cell_type": "code",
   "execution_count": null,
   "id": "sharing-spoke",
   "metadata": {},
   "outputs": [],
   "source": []
  }
 ],
 "metadata": {
  "kernelspec": {
   "display_name": "Python 3",
   "language": "python",
   "name": "python3"
  },
  "language_info": {
   "codemirror_mode": {
    "name": "ipython",
    "version": 3
   },
   "file_extension": ".py",
   "mimetype": "text/x-python",
   "name": "python",
   "nbconvert_exporter": "python",
   "pygments_lexer": "ipython3",
   "version": "3.7.9"
  }
 },
 "nbformat": 4,
 "nbformat_minor": 5
}
